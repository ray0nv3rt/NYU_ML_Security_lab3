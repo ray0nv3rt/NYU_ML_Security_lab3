{
  "cells": [
    {
      "cell_type": "markdown",
      "metadata": {
        "id": "Y7VU01REW4bD"
      },
      "source": [
        "# A Backdoor Detector for BadNets Trained on the YouTube Face Dataset using the Pruning Defense\n",
        "\n"
      ]
    },
    {
      "cell_type": "markdown",
      "metadata": {
        "id": "CYWiWQTyYALt"
      },
      "source": [
        "## Prepare dataset and model\n",
        "\n"
      ]
    },
    {
      "cell_type": "code",
      "execution_count": 2,
      "metadata": {
        "colab": {
          "base_uri": "https://localhost:8080/",
          "height": 0
        },
        "id": "caHEA7qjYJay",
        "outputId": "d36c64c5-f62c-4c6b-e38b-d54ebd63aaf0"
      },
      "outputs": [
        {
          "output_type": "stream",
          "name": "stdout",
          "text": [
            "Drive already mounted at /content/drive; to attempt to forcibly remount, call drive.mount(\"/content/drive\", force_remount=True).\n",
            "/content/drive/MyDrive/EL-GY-9163/lab3\n"
          ]
        }
      ],
      "source": [
        "# mount google drive\n",
        "from google.colab import drive\n",
        "drive.mount('/content/drive')\n",
        "# change to the working dirctory\n",
        "%cd /content/drive/MyDrive/EL-GY-9163/lab3"
      ]
    },
    {
      "cell_type": "code",
      "execution_count": 3,
      "metadata": {
        "id": "ldmJ7DkZZlIo"
      },
      "outputs": [],
      "source": [
        "import tensorflow as tf\n",
        "import keras\n",
        "import keras.backend as K\n",
        "from keras import initializers\n",
        "from keras.models import Model\n",
        "import sys\n",
        "import h5py\n",
        "import numpy as np\n",
        "import matplotlib.pyplot as plt"
      ]
    },
    {
      "cell_type": "markdown",
      "metadata": {
        "id": "eBMv8ks5YKgI"
      },
      "source": [
        "Mount the google drive. The working directory in my google drive is located at `/content/drive/MyDrive/EL-GY-9163/lab3`."
      ]
    },
    {
      "cell_type": "code",
      "execution_count": 4,
      "metadata": {
        "colab": {
          "base_uri": "https://localhost:8080/",
          "height": 0
        },
        "id": "4neBpDsVgtJa",
        "outputId": "eacb9519-6406-475a-d36a-81df49cc4c14"
      },
      "outputs": [
        {
          "output_type": "stream",
          "name": "stdout",
          "text": [
            "Model: \"model_1\"\n",
            "__________________________________________________________________________________________________\n",
            " Layer (type)                   Output Shape         Param #     Connected to                     \n",
            "==================================================================================================\n",
            " input (InputLayer)             [(None, 55, 47, 3)]  0           []                               \n",
            "                                                                                                  \n",
            " conv_1 (Conv2D)                (None, 52, 44, 20)   980         ['input[0][0]']                  \n",
            "                                                                                                  \n",
            " pool_1 (MaxPooling2D)          (None, 26, 22, 20)   0           ['conv_1[0][0]']                 \n",
            "                                                                                                  \n",
            " conv_2 (Conv2D)                (None, 24, 20, 40)   7240        ['pool_1[0][0]']                 \n",
            "                                                                                                  \n",
            " pool_2 (MaxPooling2D)          (None, 12, 10, 40)   0           ['conv_2[0][0]']                 \n",
            "                                                                                                  \n",
            " conv_3 (Conv2D)                (None, 10, 8, 60)    21660       ['pool_2[0][0]']                 \n",
            "                                                                                                  \n",
            " pool_3 (MaxPooling2D)          (None, 5, 4, 60)     0           ['conv_3[0][0]']                 \n",
            "                                                                                                  \n",
            " conv_4 (Conv2D)                (None, 4, 3, 80)     19280       ['pool_3[0][0]']                 \n",
            "                                                                                                  \n",
            " flatten_1 (Flatten)            (None, 1200)         0           ['pool_3[0][0]']                 \n",
            "                                                                                                  \n",
            " flatten_2 (Flatten)            (None, 960)          0           ['conv_4[0][0]']                 \n",
            "                                                                                                  \n",
            " fc_1 (Dense)                   (None, 160)          192160      ['flatten_1[0][0]']              \n",
            "                                                                                                  \n",
            " fc_2 (Dense)                   (None, 160)          153760      ['flatten_2[0][0]']              \n",
            "                                                                                                  \n",
            " add_1 (Add)                    (None, 160)          0           ['fc_1[0][0]',                   \n",
            "                                                                  'fc_2[0][0]']                   \n",
            "                                                                                                  \n",
            " activation_1 (Activation)      (None, 160)          0           ['add_1[0][0]']                  \n",
            "                                                                                                  \n",
            " output (Dense)                 (None, 1283)         206563      ['activation_1[0][0]']           \n",
            "                                                                                                  \n",
            "==================================================================================================\n",
            "Total params: 601,643\n",
            "Trainable params: 601,643\n",
            "Non-trainable params: 0\n",
            "__________________________________________________________________________________________________\n",
            "None\n"
          ]
        }
      ],
      "source": [
        "# load model\n",
        "model_B = keras.models.load_model('./models/bd_net.h5')\n",
        "print(model_B.summary())"
      ]
    },
    {
      "cell_type": "code",
      "execution_count": 4,
      "metadata": {
        "colab": {
          "base_uri": "https://localhost:8080/",
          "height": 0
        },
        "id": "FWdpUmlc6saS",
        "outputId": "ae3adc06-9843-4a86-9fb0-536b1b1bfd11"
      },
      "outputs": [
        {
          "output_type": "stream",
          "name": "stdout",
          "text": [
            "2021-12-14 13:59:29.151856: W tensorflow/core/common_runtime/gpu/gpu_bfc_allocator.cc:39] Overriding allow_growth setting because the TF_FORCE_GPU_ALLOW_GROWTH environment variable is set. Original config value was 0.\n",
            "2021-12-14 13:59:29.695506: W tensorflow/core/framework/cpu_allocator_impl.cc:82] Allocation of 358187940 exceeds 10% of free system memory.\n",
            "Clean Classification accuracy: 98.64899974019225\n",
            "2021-12-14 13:59:40.862748: W tensorflow/core/framework/cpu_allocator_impl.cc:82] Allocation of 358187940 exceeds 10% of free system memory.\n",
            "Attack Success Rate: 100.0\n"
          ]
        }
      ],
      "source": [
        "!python eval.py data/cl/valid.h5 data/bd/bd_valid.h5 models/bd_net.h5"
      ]
    },
    {
      "cell_type": "code",
      "source": [
        "# load data \n",
        "def data_loader(filepath):\n",
        "    data = h5py.File(filepath, 'r')\n",
        "    x_data = np.array(data['data'])\n",
        "    y_data = np.array(data['label'])\n",
        "    x_data = x_data.transpose((0,2,3,1))\n",
        "\n",
        "    return x_data, y_data\n",
        "\n",
        "cl_x_test, cl_y_test = data_loader('./data/cl/test.h5')\n",
        "cl_x_valid, cl_y_valid = data_loader('./data/cl/valid.h5')\n",
        "bd_x_test, bd_y_test = data_loader('./data/bd/bd_test.h5')\n",
        "bd_x_valid, bd_y_valid = data_loader('./data/bd/bd_valid.h5')"
      ],
      "metadata": {
        "id": "K9WSg2QIyEG6"
      },
      "execution_count": 5,
      "outputs": []
    },
    {
      "cell_type": "code",
      "source": [
        "# evaluate model \n",
        "def eval_cca(model, cl_x, cl_y, bd_x, bd_y):\n",
        "  cl_label_p = np.argmax(model.predict(cl_x), axis=1)\n",
        "  cl_acc = np.mean(np.equal(cl_label_p, cl_y))*100\n",
        "  print('Clean Classification accuracy:', cl_acc)\n",
        "  return cl_acc\n",
        "\n",
        "def eval_asr(model, cl_x, cl_y, bd_x, bd_y):\n",
        "  bd_label_p = np.argmax(model.predict(bd_x), axis=1)\n",
        "  asr = np.mean(np.equal(bd_label_p, bd_y))*100\n",
        "  print('Attack Success Rate:', asr)\n",
        "  return asr"
      ],
      "metadata": {
        "id": "pDAA1g5SbXhx"
      },
      "execution_count": 6,
      "outputs": []
    },
    {
      "cell_type": "markdown",
      "source": [
        "## Prune the badnet"
      ],
      "metadata": {
        "id": "T8d5PbJ0rGwN"
      }
    },
    {
      "cell_type": "markdown",
      "metadata": {
        "id": "RQw4yIIQsLMu"
      },
      "source": [
        "print the result of the last pooling layer under clean validation data, sort the weights in the results."
      ]
    },
    {
      "cell_type": "code",
      "source": [
        "pool_3 = Model(inputs=model_B.input,\n",
        "            outputs=model_B.get_layer(\"pool_3\").output)\n",
        "\n",
        "pool_3_clean_output = np.mean(pool_3.predict(cl_x_valid), axis=0)\n",
        "\n",
        "idex_clean = np.argsort(np.sum(pool_3_clean_output, axis=(0, 1)))\n",
        "print(idex_clean)"
      ],
      "metadata": {
        "id": "EMReV9HpTtjU",
        "colab": {
          "base_uri": "https://localhost:8080/",
          "height": 0
        },
        "outputId": "6ddcd1ab-37d7-4256-f0dd-5acda271d240"
      },
      "execution_count": 7,
      "outputs": [
        {
          "output_type": "stream",
          "name": "stdout",
          "text": [
            "[ 0 26 27 30 31 33 34 36 37 38 25 39 41 44 45 47 48 49 50 53 55 40 24 59\n",
            "  9  2 12 13 17 14 15 23  6 51 32 22 21 20 19 43 58  3 42  1 29 16 56 46\n",
            "  5  8 11 54 10 28 35 18  4  7 52 57]\n"
          ]
        }
      ]
    },
    {
      "cell_type": "markdown",
      "source": [
        "Since the pooling layer has no weight nor bias, we could prune the network by pruning the previous layer, which is conv_3."
      ],
      "metadata": {
        "id": "S_ax__VxynG7"
      }
    },
    {
      "cell_type": "code",
      "source": [
        "model_B = keras.models.load_model('./models/bd_net.h5')\n",
        "layer = model_B.get_layer(\"conv_3\")\n",
        "weight, bias = layer.get_weights()\n",
        "\n",
        "c0 = 98.64899974019225\n",
        "for i in range(len(idex_clean)):\n",
        "  cur_idex = idex_clean[i]\n",
        "  weight[:, :, :, cur_idex] = 0\n",
        "  bias[cur_idex] = 0\n",
        "  layer.set_weights([weight, bias])\n",
        "  print('iteration ', i+1)\n",
        "  c = eval_cca(model_B, cl_x_valid, cl_y_valid, bd_x_valid, bd_y_valid)\n",
        "  if i+1 == 45:\n",
        "    model_B.save('/content/drive/MyDrive/EL-GY-9163/lab3/models/gd_2_net.h5')\n",
        "  elif i+1 == 48:\n",
        "    model_B.save('/content/drive/MyDrive/EL-GY-9163/lab3/models/gd_4_net.h5')\n",
        "  elif i+1 == 52:\n",
        "    model_B.save('/content/drive/MyDrive/EL-GY-9163/lab3/models/gd_10_net.h5')\n",
        "  elif i+1 == 54:\n",
        "    model_B.save('/content/drive/MyDrive/EL-GY-9163/lab3/models/gd_30_net.h5')"
      ],
      "metadata": {
        "id": "Kuafwsd8Ttdu",
        "colab": {
          "base_uri": "https://localhost:8080/",
          "height": 0
        },
        "outputId": "9086be64-1c7b-4644-e066-493fca4a7f97"
      },
      "execution_count": 20,
      "outputs": [
        {
          "output_type": "stream",
          "name": "stdout",
          "text": [
            "iteration  1\n",
            "Clean Classification accuracy: 98.64899974019225\n",
            "iteration  2\n",
            "Clean Classification accuracy: 98.64899974019225\n",
            "iteration  3\n",
            "Clean Classification accuracy: 98.64899974019225\n",
            "iteration  4\n",
            "Clean Classification accuracy: 98.64899974019225\n",
            "iteration  5\n",
            "Clean Classification accuracy: 98.64899974019225\n",
            "iteration  6\n",
            "Clean Classification accuracy: 98.64899974019225\n",
            "iteration  7\n",
            "Clean Classification accuracy: 98.64899974019225\n",
            "iteration  8\n",
            "Clean Classification accuracy: 98.64899974019225\n",
            "iteration  9\n",
            "Clean Classification accuracy: 98.64899974019225\n",
            "iteration  10\n",
            "Clean Classification accuracy: 98.64899974019225\n",
            "iteration  11\n",
            "Clean Classification accuracy: 98.64899974019225\n",
            "iteration  12\n",
            "Clean Classification accuracy: 98.64899974019225\n",
            "iteration  13\n",
            "Clean Classification accuracy: 98.64899974019225\n",
            "iteration  14\n",
            "Clean Classification accuracy: 98.64899974019225\n",
            "iteration  15\n",
            "Clean Classification accuracy: 98.64899974019225\n",
            "iteration  16\n",
            "Clean Classification accuracy: 98.64899974019225\n",
            "iteration  17\n",
            "Clean Classification accuracy: 98.64899974019225\n",
            "iteration  18\n",
            "Clean Classification accuracy: 98.64899974019225\n",
            "iteration  19\n",
            "Clean Classification accuracy: 98.64899974019225\n",
            "iteration  20\n",
            "Clean Classification accuracy: 98.64899974019225\n",
            "iteration  21\n",
            "Clean Classification accuracy: 98.64899974019225\n",
            "iteration  22\n",
            "Clean Classification accuracy: 98.64899974019225\n",
            "iteration  23\n",
            "Clean Classification accuracy: 98.64899974019225\n",
            "iteration  24\n",
            "Clean Classification accuracy: 98.64899974019225\n",
            "iteration  25\n",
            "Clean Classification accuracy: 98.64899974019225\n",
            "iteration  26\n",
            "Clean Classification accuracy: 98.64899974019225\n",
            "iteration  27\n",
            "Clean Classification accuracy: 98.64899974019225\n",
            "iteration  28\n",
            "Clean Classification accuracy: 98.64899974019225\n",
            "iteration  29\n",
            "Clean Classification accuracy: 98.64899974019225\n",
            "iteration  30\n",
            "Clean Classification accuracy: 98.64899974019225\n",
            "iteration  31\n",
            "Clean Classification accuracy: 98.64899974019225\n",
            "iteration  32\n",
            "Clean Classification accuracy: 98.64899974019225\n",
            "iteration  33\n",
            "Clean Classification accuracy: 98.64899974019225\n",
            "iteration  34\n",
            "Clean Classification accuracy: 98.64033948211657\n",
            "iteration  35\n",
            "Clean Classification accuracy: 98.64033948211657\n",
            "iteration  36\n",
            "Clean Classification accuracy: 98.63167922404088\n",
            "iteration  37\n",
            "Clean Classification accuracy: 98.65765999826795\n",
            "iteration  38\n",
            "Clean Classification accuracy: 98.64899974019225\n",
            "iteration  39\n",
            "Clean Classification accuracy: 98.6056984498138\n",
            "iteration  40\n",
            "Clean Classification accuracy: 98.57105741751104\n",
            "iteration  41\n",
            "Clean Classification accuracy: 98.53641638520828\n",
            "iteration  42\n",
            "Clean Classification accuracy: 98.19000606218066\n",
            "iteration  43\n",
            "Clean Classification accuracy: 97.65307006148784\n",
            "iteration  44\n",
            "Clean Classification accuracy: 97.50584567420108\n",
            "iteration  45\n",
            "Clean Classification accuracy: 95.75647354291158\n"
          ]
        },
        {
          "output_type": "stream",
          "name": "stderr",
          "text": [
            "/usr/local/lib/python3.7/dist-packages/keras/engine/functional.py:1410: CustomMaskWarning: Custom mask layers require a config and must override get_config. When loading, the custom mask layer must be passed to the custom_objects argument.\n",
            "  layer_config = serialize_layer_fn(layer)\n"
          ]
        },
        {
          "output_type": "stream",
          "name": "stdout",
          "text": [
            "iteration  46\n",
            "Clean Classification accuracy: 95.20221702606739\n",
            "iteration  47\n",
            "Clean Classification accuracy: 94.7172425738287\n",
            "iteration  48\n",
            "Clean Classification accuracy: 92.09318437689443\n",
            "iteration  49\n",
            "Clean Classification accuracy: 91.49562656967177\n",
            "iteration  50\n",
            "Clean Classification accuracy: 91.01931237550879\n",
            "iteration  51\n",
            "Clean Classification accuracy: 89.17467740538669\n",
            "iteration  52\n",
            "Clean Classification accuracy: 84.43751623798389\n",
            "iteration  53\n",
            "Clean Classification accuracy: 76.48739932449988\n",
            "iteration  54\n",
            "Clean Classification accuracy: 54.8627349095003\n",
            "iteration  55\n",
            "Clean Classification accuracy: 27.08928726076037\n",
            "iteration  56\n",
            "Clean Classification accuracy: 13.87373343725643\n",
            "iteration  57\n",
            "Clean Classification accuracy: 7.101411622066338\n",
            "iteration  58\n",
            "Clean Classification accuracy: 1.5501861955486274\n",
            "iteration  59\n",
            "Clean Classification accuracy: 0.7188014202823244\n",
            "iteration  60\n",
            "Clean Classification accuracy: 0.0779423226812159\n"
          ]
        }
      ]
    },
    {
      "cell_type": "markdown",
      "source": [
        "## Report"
      ],
      "metadata": {
        "id": "utvEYy1K_ycN"
      }
    },
    {
      "cell_type": "markdown",
      "source": [
        "### Evaluate the repaired networks using test dataset"
      ],
      "metadata": {
        "id": "iceQi4SLA5_7"
      }
    },
    {
      "cell_type": "code",
      "source": [
        "!python eval.py data/cl/test.h5 data/bd/bd_test.h5 models/gd_2_net.h5"
      ],
      "metadata": {
        "colab": {
          "base_uri": "https://localhost:8080/",
          "height": 0
        },
        "id": "o393wYlxBDVZ",
        "outputId": "f476ae49-bf91-4011-b92f-64cbfc25eca9"
      },
      "execution_count": 29,
      "outputs": [
        {
          "output_type": "stream",
          "name": "stdout",
          "text": [
            "2021-12-14 14:22:49.063660: W tensorflow/core/common_runtime/gpu/gpu_bfc_allocator.cc:39] Overriding allow_growth setting because the TF_FORCE_GPU_ALLOW_GROWTH environment variable is set. Original config value was 0.\n",
            "2021-12-14 14:22:50.164754: W tensorflow/core/framework/cpu_allocator_impl.cc:82] Allocation of 397986600 exceeds 10% of free system memory.\n",
            "2021-12-14 14:23:07.710952: W tensorflow/core/framework/cpu_allocator_impl.cc:82] Allocation of 65843560 exceeds 10% of free system memory.\n",
            "Clean Classification accuracy: 95.90023382696803\n",
            "2021-12-14 14:23:08.523367: W tensorflow/core/framework/cpu_allocator_impl.cc:82] Allocation of 397986600 exceeds 10% of free system memory.\n",
            "2021-12-14 14:23:10.486094: W tensorflow/core/framework/cpu_allocator_impl.cc:82] Allocation of 65843560 exceeds 10% of free system memory.\n",
            "Attack Success Rate: 100.0\n"
          ]
        }
      ]
    },
    {
      "cell_type": "code",
      "source": [
        "!python eval.py data/cl/test.h5 data/bd/bd_test.h5 models/gd_4_net.h5"
      ],
      "metadata": {
        "colab": {
          "base_uri": "https://localhost:8080/",
          "height": 0
        },
        "id": "_1LOckatBk5Q",
        "outputId": "0aedaadd-2add-4ec6-db02-4567cd9d7a37"
      },
      "execution_count": 30,
      "outputs": [
        {
          "output_type": "stream",
          "name": "stdout",
          "text": [
            "2021-12-14 14:23:32.334179: W tensorflow/core/common_runtime/gpu/gpu_bfc_allocator.cc:39] Overriding allow_growth setting because the TF_FORCE_GPU_ALLOW_GROWTH environment variable is set. Original config value was 0.\n",
            "2021-12-14 14:23:34.157901: W tensorflow/core/framework/cpu_allocator_impl.cc:82] Allocation of 397986600 exceeds 10% of free system memory.\n",
            "2021-12-14 14:23:56.415186: W tensorflow/core/framework/cpu_allocator_impl.cc:82] Allocation of 65843560 exceeds 10% of free system memory.\n",
            "Clean Classification accuracy: 92.29150428682775\n",
            "2021-12-14 14:24:16.406711: W tensorflow/core/framework/cpu_allocator_impl.cc:82] Allocation of 397986600 exceeds 10% of free system memory.\n",
            "2021-12-14 14:24:18.394438: W tensorflow/core/framework/cpu_allocator_impl.cc:82] Allocation of 65843560 exceeds 10% of free system memory.\n",
            "Attack Success Rate: 99.98441153546376\n"
          ]
        }
      ]
    },
    {
      "cell_type": "code",
      "source": [
        "!python eval.py data/cl/test.h5 data/bd/bd_test.h5 models/gd_10_net.h5"
      ],
      "metadata": {
        "colab": {
          "base_uri": "https://localhost:8080/",
          "height": 0
        },
        "id": "JwLqeAVvBmVq",
        "outputId": "b8fb45b9-855d-4c0f-f888-6a791bdc467c"
      },
      "execution_count": 31,
      "outputs": [
        {
          "output_type": "stream",
          "name": "stdout",
          "text": [
            "2021-12-14 14:24:33.023970: W tensorflow/core/common_runtime/gpu/gpu_bfc_allocator.cc:39] Overriding allow_growth setting because the TF_FORCE_GPU_ALLOW_GROWTH environment variable is set. Original config value was 0.\n",
            "2021-12-14 14:24:34.768222: W tensorflow/core/framework/cpu_allocator_impl.cc:82] Allocation of 397986600 exceeds 10% of free system memory.\n",
            "2021-12-14 14:24:41.617658: W tensorflow/core/framework/cpu_allocator_impl.cc:82] Allocation of 65843560 exceeds 10% of free system memory.\n",
            "Clean Classification accuracy: 84.54403741231489\n",
            "2021-12-14 14:24:42.521749: W tensorflow/core/framework/cpu_allocator_impl.cc:82] Allocation of 397986600 exceeds 10% of free system memory.\n",
            "2021-12-14 14:24:44.531299: W tensorflow/core/framework/cpu_allocator_impl.cc:82] Allocation of 65843560 exceeds 10% of free system memory.\n",
            "Attack Success Rate: 77.20966484801247\n"
          ]
        }
      ]
    },
    {
      "cell_type": "code",
      "source": [
        "!python eval.py data/cl/test.h5 data/bd/bd_test.h5 models/gd_30_net.h5"
      ],
      "metadata": {
        "colab": {
          "base_uri": "https://localhost:8080/",
          "height": 0
        },
        "id": "WdTG7qBcBndG",
        "outputId": "9921c174-c1f9-4f06-c37a-5b8df98f4347"
      },
      "execution_count": 32,
      "outputs": [
        {
          "output_type": "stream",
          "name": "stdout",
          "text": [
            "2021-12-14 14:24:58.641589: W tensorflow/core/common_runtime/gpu/gpu_bfc_allocator.cc:39] Overriding allow_growth setting because the TF_FORCE_GPU_ALLOW_GROWTH environment variable is set. Original config value was 0.\n",
            "2021-12-14 14:25:00.131117: W tensorflow/core/framework/cpu_allocator_impl.cc:82] Allocation of 397986600 exceeds 10% of free system memory.\n",
            "2021-12-14 14:25:03.747713: W tensorflow/core/framework/cpu_allocator_impl.cc:82] Allocation of 65843560 exceeds 10% of free system memory.\n",
            "Clean Classification accuracy: 54.762275915822286\n",
            "2021-12-14 14:25:04.594382: W tensorflow/core/framework/cpu_allocator_impl.cc:82] Allocation of 397986600 exceeds 10% of free system memory.\n",
            "2021-12-14 14:25:06.475432: W tensorflow/core/framework/cpu_allocator_impl.cc:82] Allocation of 65843560 exceeds 10% of free system memory.\n",
            "Attack Success Rate: 6.96024941543258\n"
          ]
        }
      ]
    },
    {
      "cell_type": "markdown",
      "source": [
        "|GoodNet|X%|test data clean classification accuracy|attack success rate|\n",
        "|-|-|-|-|\n",
        "|gd_2_net|2|95.90023382696803|100.0|\n",
        "|gd_4_net|4|92.29150428682775|99.98441153546376|\n",
        "|gd_10_net|10|84.54403741231489|77.20966484801247|\n",
        "|gd_30_net|30|54.762275915822286|6.96024941543258|"
      ],
      "metadata": {
        "id": "hiWYg2m9Epsu"
      }
    },
    {
      "cell_type": "markdown",
      "source": [
        "### Plot the accuracy on clean test data and the attack success rate as a function of the fraction of channels pruned."
      ],
      "metadata": {
        "id": "mG-gXmiGCGBc"
      }
    },
    {
      "cell_type": "code",
      "source": [
        "model_B = keras.models.load_model('./models/bd_net.h5')\n",
        "layer = model_B.get_layer(\"conv_3\")\n",
        "weight, bias = layer.get_weights()\n",
        "\n",
        "cca = []\n",
        "asr = []\n",
        "frac = []\n",
        "\n",
        "for i in range(len(idex_clean)-15):\n",
        "  cur_idex = idex_clean[i]\n",
        "  weight[:, :, :, cur_idex] = 0\n",
        "  bias[cur_idex] = 0\n",
        "  layer.set_weights([weight, bias])\n",
        "  print('iteration ', i+1)\n",
        "  c = eval_cca(model_B, cl_x_test, cl_y_test, bd_x_test, bd_y_test)\n",
        "  a = eval_asr(model_B, cl_x_test, cl_y_test, bd_x_test, bd_y_test)\n",
        "  cca.append(c)\n",
        "  asr.append(a)\n",
        "  frac.append((i+1)/60)"
      ],
      "metadata": {
        "colab": {
          "base_uri": "https://localhost:8080/",
          "height": 0
        },
        "id": "wwj8bZ1aCNvc",
        "outputId": "ee3e4064-f560-4ea5-b8bf-11f3a147818d"
      },
      "execution_count": 8,
      "outputs": [
        {
          "output_type": "stream",
          "name": "stdout",
          "text": [
            "iteration  1\n",
            "Clean Classification accuracy: 98.62042088854248\n",
            "Attack Success Rate: 100.0\n",
            "iteration  2\n",
            "Clean Classification accuracy: 98.62042088854248\n",
            "Attack Success Rate: 100.0\n",
            "iteration  3\n",
            "Clean Classification accuracy: 98.62042088854248\n",
            "Attack Success Rate: 100.0\n",
            "iteration  4\n",
            "Clean Classification accuracy: 98.62042088854248\n",
            "Attack Success Rate: 100.0\n",
            "iteration  5\n",
            "Clean Classification accuracy: 98.62042088854248\n",
            "Attack Success Rate: 100.0\n",
            "iteration  6\n",
            "Clean Classification accuracy: 98.62042088854248\n",
            "Attack Success Rate: 100.0\n",
            "iteration  7\n",
            "Clean Classification accuracy: 98.62042088854248\n",
            "Attack Success Rate: 100.0\n",
            "iteration  8\n",
            "Clean Classification accuracy: 98.62042088854248\n",
            "Attack Success Rate: 100.0\n",
            "iteration  9\n",
            "Clean Classification accuracy: 98.62042088854248\n",
            "Attack Success Rate: 100.0\n",
            "iteration  10\n",
            "Clean Classification accuracy: 98.62042088854248\n",
            "Attack Success Rate: 100.0\n",
            "iteration  11\n",
            "Clean Classification accuracy: 98.62042088854248\n",
            "Attack Success Rate: 100.0\n",
            "iteration  12\n",
            "Clean Classification accuracy: 98.62042088854248\n",
            "Attack Success Rate: 100.0\n",
            "iteration  13\n",
            "Clean Classification accuracy: 98.62042088854248\n",
            "Attack Success Rate: 100.0\n",
            "iteration  14\n",
            "Clean Classification accuracy: 98.62042088854248\n",
            "Attack Success Rate: 100.0\n",
            "iteration  15\n",
            "Clean Classification accuracy: 98.62042088854248\n",
            "Attack Success Rate: 100.0\n",
            "iteration  16\n",
            "Clean Classification accuracy: 98.62042088854248\n",
            "Attack Success Rate: 100.0\n",
            "iteration  17\n",
            "Clean Classification accuracy: 98.62042088854248\n",
            "Attack Success Rate: 100.0\n",
            "iteration  18\n",
            "Clean Classification accuracy: 98.62042088854248\n",
            "Attack Success Rate: 100.0\n",
            "iteration  19\n",
            "Clean Classification accuracy: 98.62042088854248\n",
            "Attack Success Rate: 100.0\n",
            "iteration  20\n",
            "Clean Classification accuracy: 98.62042088854248\n",
            "Attack Success Rate: 100.0\n",
            "iteration  21\n",
            "Clean Classification accuracy: 98.62042088854248\n",
            "Attack Success Rate: 100.0\n",
            "iteration  22\n",
            "Clean Classification accuracy: 98.62042088854248\n",
            "Attack Success Rate: 100.0\n",
            "iteration  23\n",
            "Clean Classification accuracy: 98.62042088854248\n",
            "Attack Success Rate: 100.0\n",
            "iteration  24\n",
            "Clean Classification accuracy: 98.62042088854248\n",
            "Attack Success Rate: 100.0\n",
            "iteration  25\n",
            "Clean Classification accuracy: 98.62042088854248\n",
            "Attack Success Rate: 100.0\n",
            "iteration  26\n",
            "Clean Classification accuracy: 98.62042088854248\n",
            "Attack Success Rate: 100.0\n",
            "iteration  27\n",
            "Clean Classification accuracy: 98.62042088854248\n",
            "Attack Success Rate: 100.0\n",
            "iteration  28\n",
            "Clean Classification accuracy: 98.62042088854248\n",
            "Attack Success Rate: 100.0\n",
            "iteration  29\n",
            "Clean Classification accuracy: 98.62042088854248\n",
            "Attack Success Rate: 100.0\n",
            "iteration  30\n",
            "Clean Classification accuracy: 98.62042088854248\n",
            "Attack Success Rate: 100.0\n",
            "iteration  31\n",
            "Clean Classification accuracy: 98.62042088854248\n",
            "Attack Success Rate: 100.0\n",
            "iteration  32\n",
            "Clean Classification accuracy: 98.62042088854248\n",
            "Attack Success Rate: 100.0\n",
            "iteration  33\n",
            "Clean Classification accuracy: 98.62042088854248\n",
            "Attack Success Rate: 100.0\n",
            "iteration  34\n",
            "Clean Classification accuracy: 98.61262665627436\n",
            "Attack Success Rate: 100.0\n",
            "iteration  35\n",
            "Clean Classification accuracy: 98.61262665627436\n",
            "Attack Success Rate: 100.0\n",
            "iteration  36\n",
            "Clean Classification accuracy: 98.60483242400623\n",
            "Attack Success Rate: 100.0\n",
            "iteration  37\n",
            "Clean Classification accuracy: 98.60483242400623\n",
            "Attack Success Rate: 100.0\n",
            "iteration  38\n",
            "Clean Classification accuracy: 98.58924395947\n",
            "Attack Success Rate: 100.0\n",
            "iteration  39\n",
            "Clean Classification accuracy: 98.55027279812938\n",
            "Attack Success Rate: 100.0\n",
            "iteration  40\n",
            "Clean Classification accuracy: 98.53468433359313\n",
            "Attack Success Rate: 100.0\n",
            "iteration  41\n",
            "Clean Classification accuracy: 98.52689010132501\n",
            "Attack Success Rate: 100.0\n",
            "iteration  42\n",
            "Clean Classification accuracy: 98.269680436477\n",
            "Attack Success Rate: 100.0\n",
            "iteration  43\n",
            "Clean Classification accuracy: 97.88776305533905\n",
            "Attack Success Rate: 100.0\n",
            "iteration  44\n",
            "Clean Classification accuracy: 97.66173031956352\n",
            "Attack Success Rate: 100.0\n",
            "iteration  45\n",
            "Clean Classification accuracy: 95.90023382696803\n",
            "Attack Success Rate: 100.0\n"
          ]
        }
      ]
    },
    {
      "cell_type": "code",
      "source": [
        "model_G = keras.models.load_model('./models/gd_2_net.h5')\n",
        "layer = model_G.get_layer(\"conv_3\")\n",
        "weight, bias = layer.get_weights()\n",
        "\n",
        "for i in range(len(idex_clean)-45):\n",
        "  cur_idex = idex_clean[i+45]\n",
        "  weight[:, :, :, cur_idex] = 0\n",
        "  bias[cur_idex] = 0\n",
        "  layer.set_weights([weight, bias])\n",
        "  print('iteration ', i+46)\n",
        "  c = eval_cca(model_G, cl_x_test, cl_y_test, bd_x_test, bd_y_test)\n",
        "  a = eval_asr(model_G, cl_x_test, cl_y_test, bd_x_test, bd_y_test)\n",
        "  cca.append(c)\n",
        "  asr.append(a)\n",
        "  frac.append((i+46)/60)"
      ],
      "metadata": {
        "colab": {
          "base_uri": "https://localhost:8080/",
          "height": 0
        },
        "id": "EVsKY-GLdQU2",
        "outputId": "92308015-2962-4738-e25c-5e03474c7ef9"
      },
      "execution_count": 15,
      "outputs": [
        {
          "output_type": "stream",
          "name": "stdout",
          "text": [
            "iteration  46\n",
            "Clean Classification accuracy: 95.5261106780982\n",
            "Attack Success Rate: 99.97661730319564\n",
            "iteration  47\n",
            "Clean Classification accuracy: 95.0584567420109\n",
            "Attack Success Rate: 99.98441153546376\n",
            "iteration  48\n",
            "Clean Classification accuracy: 92.29150428682775\n",
            "Attack Success Rate: 99.98441153546376\n",
            "iteration  49\n",
            "Clean Classification accuracy: 91.8082618862042\n",
            "Attack Success Rate: 99.98441153546376\n",
            "iteration  50\n",
            "Clean Classification accuracy: 91.30943102104443\n",
            "Attack Success Rate: 99.97661730319564\n",
            "iteration  51\n",
            "Clean Classification accuracy: 89.84411535463757\n",
            "Attack Success Rate: 80.6469212782541\n",
            "iteration  52\n",
            "Clean Classification accuracy: 84.54403741231489\n",
            "Attack Success Rate: 77.20966484801247\n",
            "iteration  53\n",
            "Clean Classification accuracy: 76.30553390491036\n",
            "Attack Success Rate: 36.26656274356976\n",
            "iteration  54\n",
            "Clean Classification accuracy: 54.762275915822286\n",
            "Attack Success Rate: 6.96024941543258\n",
            "iteration  55\n",
            "Clean Classification accuracy: 27.10054559625877\n",
            "Attack Success Rate: 0.4208885424785659\n",
            "iteration  56\n",
            "Clean Classification accuracy: 13.756819953234606\n",
            "Attack Success Rate: 0.0\n",
            "iteration  57\n",
            "Clean Classification accuracy: 6.570537802026501\n",
            "Attack Success Rate: 0.0\n",
            "iteration  58\n",
            "Clean Classification accuracy: 1.5198752922837102\n",
            "Attack Success Rate: 0.0\n",
            "iteration  59\n",
            "Clean Classification accuracy: 0.646921278254092\n",
            "Attack Success Rate: 0.0\n",
            "iteration  60\n",
            "Clean Classification accuracy: 0.0779423226812159\n",
            "Attack Success Rate: 0.0\n"
          ]
        }
      ]
    },
    {
      "cell_type": "code",
      "source": [
        "plt.figure(figsize=(5, 5))\n",
        "plt.plot(frac, cca, label='accuracy')\n",
        "plt.plot(frac, asr, label='attack succeed rate')\n",
        "plt.xlabel('fraction of channels')\n",
        "plt.ylabel('rate')\n",
        "plt.title('Rate on test dataset')\n",
        "plt.legend()\n",
        "plt.grid()"
      ],
      "metadata": {
        "colab": {
          "base_uri": "https://localhost:8080/",
          "height": 350
        },
        "id": "AfhyIE3BDm5H",
        "outputId": "e289bf37-0ece-4905-9b70-f592fc2492d9"
      },
      "execution_count": 16,
      "outputs": [
        {
          "output_type": "display_data",
          "data": {
            "image/png": "[encoded data removed]",
            "text/plain": [
              "<Figure size 360x360 with 1 Axes>"
            ]
          },
          "metadata": {
            "needs_background": "light"
          }
        }
      ]
    },
    {
      "cell_type": "markdown",
      "source": [
        "### Whether the pruning defense works for this model?"
      ],
      "metadata": {
        "id": "x1k0-ZdX_jHK"
      }
    },
    {
      "cell_type": "markdown",
      "source": [
        "The prunning defense can work on this model, but the result is not good. Along with the drop of attack success rate, the accuracy almost drops simultaneously. So it is hard to choose the fraction of channels to be pruned. "
      ],
      "metadata": {
        "id": "E3_fMq259m4H"
      }
    }
  ],
  "metadata": {
    "colab": {
      "collapsed_sections": [],
      "name": "lab3_zc2237.ipynb",
      "provenance": [],
      "toc_visible": true
    },
    "kernelspec": {
      "display_name": "Python 3",
      "name": "python3"
    }
  },
  "nbformat": 4,
  "nbformat_minor": 0
}